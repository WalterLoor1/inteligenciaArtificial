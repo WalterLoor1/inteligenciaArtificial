{
  "nbformat": 4,
  "nbformat_minor": 0,
  "metadata": {
    "colab": {
      "provenance": [],
      "authorship_tag": "ABX9TyOLosbLq4E+3+QEt7evl9nx",
      "include_colab_link": true
    },
    "kernelspec": {
      "name": "python3",
      "display_name": "Python 3"
    },
    "language_info": {
      "name": "python"
    }
  },
  "cells": [
    {
      "cell_type": "markdown",
      "metadata": {
        "id": "view-in-github",
        "colab_type": "text"
      },
      "source": [
        "<a href=\"https://colab.research.google.com/github/WalterLoor1/inteligenciaArtificial/blob/main/Introducci%C3%B3n%20a%20Python%20y%20NumPy.ipynb\" target=\"_parent\"><img src=\"https://colab.research.google.com/assets/colab-badge.svg\" alt=\"Open In Colab\"/></a>"
      ]
    },
    {
      "cell_type": "markdown",
      "source": [
        "                              Universidad Laica  \n",
        "                                 Eloy Alfaro\n",
        "\n",
        "                    Nombre: Walther Andres Loor Zambrano  \n",
        "\n",
        "              Tema: Ejercicios de introducción a Python y NumPy"
      ],
      "metadata": {
        "id": "YWsrrZYrWZxv"
      }
    },
    {
      "cell_type": "code",
      "execution_count": 1,
      "metadata": {
        "colab": {
          "base_uri": "https://localhost:8080/"
        },
        "id": "24XDK9nPPJ0u",
        "outputId": "19a637c7-421c-409f-dd5c-a88e21922fbd"
      },
      "outputs": [
        {
          "output_type": "stream",
          "name": "stdout",
          "text": [
            "1.25.2\n"
          ]
        }
      ],
      "source": [
        "# Importa la librería numpy y la asigna al alias np\n",
        "import numpy as np\n",
        "\n",
        "# Imprime la versión actual de la librería numpy que se está utilizando\n",
        "print(np.__version__)\n"
      ]
    },
    {
      "cell_type": "code",
      "source": [
        "import numpy as np\n",
        "\n",
        "# Crear un arreglo unidimensional de números del 0 al 9\n",
        "array_1d = np.arange(10)\n",
        "\n",
        "# Imprimir el arreglo\n",
        "print(array_1d)"
      ],
      "metadata": {
        "colab": {
          "base_uri": "https://localhost:8080/"
        },
        "id": "0fH11R34PYNN",
        "outputId": "563241fa-d585-4b5c-bd33-73d5532c6d7c"
      },
      "execution_count": 2,
      "outputs": [
        {
          "output_type": "stream",
          "name": "stdout",
          "text": [
            "[0 1 2 3 4 5 6 7 8 9]\n"
          ]
        }
      ]
    },
    {
      "cell_type": "code",
      "source": [
        "import numpy as np\n",
        "\n",
        "# Crear un vector aleatorio de tamaño 10\n",
        "random_vector = np.random.rand(10)\n",
        "\n",
        "# Imprimir el vector original\n",
        "print(\"Vector original:\", random_vector)\n",
        "\n",
        "# Encontrar el índice del valor máximo\n",
        "max_index = np.argmax(random_vector)\n",
        "\n",
        "# Reemplazar el valor máximo por 0\n",
        "random_vector[max_index] = 0\n",
        "\n",
        "# Imprimir el vector modificado\n",
        "print(\"Vector modificado:\", random_vector)"
      ],
      "metadata": {
        "colab": {
          "base_uri": "https://localhost:8080/"
        },
        "id": "7g6Gv1aDPgmU",
        "outputId": "9e06023d-16d9-44b9-ee68-f3fd3599b944"
      },
      "execution_count": 3,
      "outputs": [
        {
          "output_type": "stream",
          "name": "stdout",
          "text": [
            "Vector original: [0.30986224 0.86630766 0.65891648 0.70219795 0.54666759 0.52861003\n",
            " 0.32427322 0.20248654 0.77593378 0.85813953]\n",
            "Vector modificado: [0.30986224 0.         0.65891648 0.70219795 0.54666759 0.52861003\n",
            " 0.32427322 0.20248654 0.77593378 0.85813953]\n"
          ]
        }
      ]
    },
    {
      "cell_type": "code",
      "source": [
        "import numpy as np\n",
        "\n",
        "# Definir el arreglo\n",
        "arr = np.array([[1, 2, 3, 4, 5], [6, 7, 8, 9, 10]])\n",
        "\n",
        "# Imprimir el número 8 del arreglo\n",
        "print(arr[1, 2])\n"
      ],
      "metadata": {
        "colab": {
          "base_uri": "https://localhost:8080/"
        },
        "id": "GEKjBf9EPr47",
        "outputId": "126a76f5-3944-4a82-eaa2-3d560fca0cda"
      },
      "execution_count": 4,
      "outputs": [
        {
          "output_type": "stream",
          "name": "stdout",
          "text": [
            "8\n"
          ]
        }
      ]
    },
    {
      "cell_type": "code",
      "source": [
        "import numpy as np\n",
        "\n",
        "# Definir el arreglo\n",
        "arr = np.array([1, 2, 3, 4, 5, 6, 7])\n",
        "\n",
        "# Imprimir los números [3, 4, 5] del arreglo\n",
        "print(arr[2:5])\n"
      ],
      "metadata": {
        "colab": {
          "base_uri": "https://localhost:8080/"
        },
        "id": "-g16rExlQSzh",
        "outputId": "f76e38cc-7270-41d6-8dd7-04f17d96a801"
      },
      "execution_count": 5,
      "outputs": [
        {
          "output_type": "stream",
          "name": "stdout",
          "text": [
            "[3 4 5]\n"
          ]
        }
      ]
    },
    {
      "cell_type": "code",
      "source": [
        "import numpy as np\n",
        "\n",
        "# Definir el arreglo\n",
        "arr = np.array([1, 2, 3, 4, 5, 6, 7])\n",
        "\n",
        "# Imprimir los últimos 4 números del arreglo\n",
        "print(arr[-4:])\n"
      ],
      "metadata": {
        "colab": {
          "base_uri": "https://localhost:8080/"
        },
        "id": "PTJA0TmIQcFi",
        "outputId": "700b71c3-81f4-4dd1-c018-91953fab2048"
      },
      "execution_count": 6,
      "outputs": [
        {
          "output_type": "stream",
          "name": "stdout",
          "text": [
            "[4 5 6 7]\n"
          ]
        }
      ]
    },
    {
      "cell_type": "code",
      "source": [
        "import numpy as np\n",
        "\n",
        "# Crear un arreglo de 3x3 con todos los valores True\n",
        "array_true = np.full((3, 3), True)\n",
        "\n",
        "# Imprimir el arreglo\n",
        "print(array_true)\n"
      ],
      "metadata": {
        "colab": {
          "base_uri": "https://localhost:8080/"
        },
        "id": "DcUyXigFQy5A",
        "outputId": "e6121619-576f-4fb2-c837-99fe17404ad1"
      },
      "execution_count": 7,
      "outputs": [
        {
          "output_type": "stream",
          "name": "stdout",
          "text": [
            "[[ True  True  True]\n",
            " [ True  True  True]\n",
            " [ True  True  True]]\n"
          ]
        }
      ]
    },
    {
      "cell_type": "code",
      "source": [
        "import numpy as np\n",
        "\n",
        "# Definir el arreglo\n",
        "arr = np.array([1, 2, 3, 4, 5, 6, 7, 8, 9, 10])\n",
        "\n",
        "# Extraer todos los números impares del arreglo\n",
        "odd_numbers = arr[arr % 2 != 0]\n",
        "\n",
        "# Imprimir los números impares\n",
        "print(odd_numbers)\n"
      ],
      "metadata": {
        "colab": {
          "base_uri": "https://localhost:8080/"
        },
        "id": "7kJjuAtaRp9d",
        "outputId": "cd19541a-8969-4c39-a625-7bdccc47f39d"
      },
      "execution_count": 8,
      "outputs": [
        {
          "output_type": "stream",
          "name": "stdout",
          "text": [
            "[1 3 5 7 9]\n"
          ]
        }
      ]
    },
    {
      "cell_type": "code",
      "source": [
        "import numpy as np\n",
        "\n",
        "# Crear un vector con valores que van de 10 a 49\n",
        "vector = np.arange(10, 50)\n",
        "\n",
        "# Imprimir el vector\n",
        "print(vector)\n"
      ],
      "metadata": {
        "colab": {
          "base_uri": "https://localhost:8080/"
        },
        "id": "e8PR5t8vRwLt",
        "outputId": "b360cdd2-d39f-41d3-e958-f0dc026de06c"
      },
      "execution_count": 9,
      "outputs": [
        {
          "output_type": "stream",
          "name": "stdout",
          "text": [
            "[10 11 12 13 14 15 16 17 18 19 20 21 22 23 24 25 26 27 28 29 30 31 32 33\n",
            " 34 35 36 37 38 39 40 41 42 43 44 45 46 47 48 49]\n"
          ]
        }
      ]
    },
    {
      "cell_type": "code",
      "source": [
        "import numpy as np\n",
        "\n",
        "# Crear un vector de ejemplo\n",
        "vector = np.arange(10, 50)\n",
        "\n",
        "# Invertir el vector\n",
        "reversed_vector = vector[::-1]\n",
        "\n",
        "# Imprimir el vector invertido\n",
        "print(reversed_vector)\n"
      ],
      "metadata": {
        "colab": {
          "base_uri": "https://localhost:8080/"
        },
        "id": "VkApmp0MR5It",
        "outputId": "35e9baad-1e50-4761-bf51-1f4c262e7a76"
      },
      "execution_count": 10,
      "outputs": [
        {
          "output_type": "stream",
          "name": "stdout",
          "text": [
            "[49 48 47 46 45 44 43 42 41 40 39 38 37 36 35 34 33 32 31 30 29 28 27 26\n",
            " 25 24 23 22 21 20 19 18 17 16 15 14 13 12 11 10]\n"
          ]
        }
      ]
    },
    {
      "cell_type": "code",
      "source": [
        "import numpy as np\n",
        "\n",
        "# Crear un arreglo de 10x10 con valores enteros aleatorios entre 0 y 100\n",
        "array_10x10 = np.random.randint(0, 100, size=(10, 10))\n",
        "\n",
        "# Encontrar el valor mínimo en el arreglo\n",
        "min_value = np.min(array_10x10)\n",
        "\n",
        "# Encontrar el valor máximo en el arreglo\n",
        "max_value = np.max(array_10x10)\n",
        "\n",
        "# Imprimir el arreglo, el valor mínimo y el valor máximo\n",
        "print(\"Arreglo 10x10 con valores aleatorios:\")\n",
        "print(array_10x10)\n",
        "print(\"Valor mínimo:\", min_value)\n",
        "print(\"Valor máximo:\", max_value)\n"
      ],
      "metadata": {
        "colab": {
          "base_uri": "https://localhost:8080/"
        },
        "id": "e-m3lFtQSFkM",
        "outputId": "ccaf9604-5b09-4fc0-b3c0-3af87dc1f302"
      },
      "execution_count": 11,
      "outputs": [
        {
          "output_type": "stream",
          "name": "stdout",
          "text": [
            "Arreglo 10x10 con valores aleatorios:\n",
            "[[83 13 99 60 66 53 79  5 28 71]\n",
            " [68 91 34 57 79 54 58 60  1 95]\n",
            " [37 27 54 94 54 12 58 26 37 60]\n",
            " [57 52 99 45 59 88 44 26 77 19]\n",
            " [21 74 28 14 91 51 98 99 60 41]\n",
            " [96  9 15  4 36 47 47 51 89 21]\n",
            " [77 54 53 16 20 83 99 41 83 36]\n",
            " [50 10  0 73  6 51 95 61 21 71]\n",
            " [25 13 91 66 99 41 29 67 63 86]\n",
            " [51 11 10 68  5 91 59 44  4  4]]\n",
            "Valor mínimo: 0\n",
            "Valor máximo: 99\n"
          ]
        }
      ]
    },
    {
      "cell_type": "code",
      "source": [
        "import numpy as np\n",
        "\n",
        "# Crear un arreglo de 3x3x3 con valores aleatorios\n",
        "array_3x3x3 = np.random.random((3, 3, 3))\n",
        "\n",
        "# Imprimir el arreglo\n",
        "print(array_3x3x3)\n"
      ],
      "metadata": {
        "colab": {
          "base_uri": "https://localhost:8080/"
        },
        "id": "3P4K3NdYSQxr",
        "outputId": "87f70c29-7570-4119-bc4b-b9f9ef0687a0"
      },
      "execution_count": 12,
      "outputs": [
        {
          "output_type": "stream",
          "name": "stdout",
          "text": [
            "[[[0.34163401 0.96415989 0.17441059]\n",
            "  [0.44721724 0.66440232 0.14179766]\n",
            "  [0.98144607 0.55400375 0.33456653]]\n",
            "\n",
            " [[0.89407532 0.41085423 0.37936069]\n",
            "  [0.91216429 0.85970186 0.15120543]\n",
            "  [0.1305214  0.76422592 0.65215068]]\n",
            "\n",
            " [[0.48141777 0.78077687 0.09009125]\n",
            "  [0.81953589 0.40998507 0.15940957]\n",
            "  [0.78481131 0.8038215  0.82372629]]]\n"
          ]
        }
      ]
    },
    {
      "cell_type": "code",
      "source": [
        "import numpy as np\n",
        "\n",
        "# Definir el arreglo\n",
        "arr = np.array([1, 2, 3, 4, 5, 6, 7, 8, 9, 10])\n",
        "\n",
        "# Reemplazar todos los números impares con -1\n",
        "arr[arr % 2 != 0] = -1\n",
        "\n",
        "# Imprimir el arreglo modificado\n",
        "print(arr)\n"
      ],
      "metadata": {
        "colab": {
          "base_uri": "https://localhost:8080/"
        },
        "id": "S969JVT1SWbT",
        "outputId": "e7d29c2a-4e21-48cf-bae5-8865c914bc76"
      },
      "execution_count": 13,
      "outputs": [
        {
          "output_type": "stream",
          "name": "stdout",
          "text": [
            "[-1  2 -1  4 -1  6 -1  8 -1 10]\n"
          ]
        }
      ]
    },
    {
      "cell_type": "code",
      "source": [
        "import numpy as np\n",
        "\n",
        "# Crear un arreglo de tipo float\n",
        "float_array = np.array([1.0, 2.0, 3.0, 4.0, 5.0], dtype=float)\n",
        "\n",
        "# Imprimir el arreglo y su tipo de dato\n",
        "print(float_array)\n",
        "print(\"Tipo de dato del arreglo:\", float_array.dtype)\n"
      ],
      "metadata": {
        "colab": {
          "base_uri": "https://localhost:8080/"
        },
        "id": "nPHOkQDbSiAK",
        "outputId": "7b377d43-3771-4335-cdac-2feb6b8686b6"
      },
      "execution_count": 14,
      "outputs": [
        {
          "output_type": "stream",
          "name": "stdout",
          "text": [
            "[1. 2. 3. 4. 5.]\n",
            "Tipo de dato del arreglo: float64\n"
          ]
        }
      ]
    },
    {
      "cell_type": "code",
      "source": [
        "import numpy as np\n",
        "\n",
        "# Crear un arreglo unidimensional\n",
        "array_1d = np.arange(10)  # Ejemplo de un arreglo con 10 elementos\n",
        "\n",
        "# Convertir el arreglo unidimensional a un arreglo bidimensional con 2 filas\n",
        "array_2d = array_1d.reshape(2, -1)\n",
        "\n",
        "# Imprimir el arreglo bidimensional\n",
        "print(array_2d)\n"
      ],
      "metadata": {
        "colab": {
          "base_uri": "https://localhost:8080/"
        },
        "id": "PBPYvdycStJy",
        "outputId": "7d17747c-5447-476b-9e3d-91562414eaa0"
      },
      "execution_count": 15,
      "outputs": [
        {
          "output_type": "stream",
          "name": "stdout",
          "text": [
            "[[0 1 2 3 4]\n",
            " [5 6 7 8 9]]\n"
          ]
        }
      ]
    },
    {
      "cell_type": "code",
      "source": [
        "import numpy as np\n",
        "\n",
        "# Crear dos arreglos aleatorios\n",
        "Z1 = np.random.randint(0, 10, 10)\n",
        "Z2 = np.random.randint(0, 10, 10)\n",
        "\n",
        "# Encontrar los valores comunes entre los dos arreglos\n",
        "common_values = np.intersect1d(Z1, Z2)\n",
        "\n",
        "# Imprimir los arreglos y los valores comunes\n",
        "print(\"Arreglo Z1:\", Z1)\n",
        "print(\"Arreglo Z2:\", Z2)\n",
        "print(\"Valores comunes:\", common_values)\n"
      ],
      "metadata": {
        "colab": {
          "base_uri": "https://localhost:8080/"
        },
        "id": "mgOZpdv6SvMi",
        "outputId": "36da9e1d-25be-4a71-8b0e-083cb574be6f"
      },
      "execution_count": 16,
      "outputs": [
        {
          "output_type": "stream",
          "name": "stdout",
          "text": [
            "Arreglo Z1: [8 2 6 6 5 6 7 5 3 8]\n",
            "Arreglo Z2: [7 6 1 6 0 8 6 4 5 9]\n",
            "Valores comunes: [5 6 7 8]\n"
          ]
        }
      ]
    },
    {
      "cell_type": "code",
      "source": [
        "import numpy as np\n",
        "\n",
        "# Crear dos arreglos aleatorios\n",
        "A = np.random.randint(0, 2, 5)\n",
        "B = np.random.randint(0, 2, 5)\n",
        "\n",
        "# Verificar si los arreglos son iguales\n",
        "are_equal = np.array_equal(A, B)\n",
        "\n",
        "# Imprimir los arreglos y el resultado de la comparación\n",
        "print(\"Arreglo A:\", A)\n",
        "print(\"Arreglo B:\", B)\n",
        "print(\"¿Son iguales?\", are_equal)\n"
      ],
      "metadata": {
        "colab": {
          "base_uri": "https://localhost:8080/"
        },
        "id": "P4ovf-oES82h",
        "outputId": "ca74f536-5a4e-419b-b5a6-5e1932fb33b1"
      },
      "execution_count": 17,
      "outputs": [
        {
          "output_type": "stream",
          "name": "stdout",
          "text": [
            "Arreglo A: [0 0 0 0 1]\n",
            "Arreglo B: [0 0 1 0 0]\n",
            "¿Son iguales? False\n"
          ]
        }
      ]
    },
    {
      "cell_type": "code",
      "source": [
        "import numpy as np\n",
        "\n",
        "# Definir los arreglos a y b\n",
        "a = np.array([1, 2, 3])\n",
        "b = np.array([4, 5, 6])\n",
        "\n",
        "# Apilar los arreglos verticalmente\n",
        "stacked_array = np.vstack((a, b))\n",
        "\n",
        "# Imprimir el arreglo apilado\n",
        "print(stacked_array)\n"
      ],
      "metadata": {
        "colab": {
          "base_uri": "https://localhost:8080/"
        },
        "id": "fuWAVT1rTED5",
        "outputId": "f3b3799f-2c5c-4014-da09-b04bcb0e2b31"
      },
      "execution_count": 18,
      "outputs": [
        {
          "output_type": "stream",
          "name": "stdout",
          "text": [
            "[[1 2 3]\n",
            " [4 5 6]]\n"
          ]
        }
      ]
    },
    {
      "cell_type": "code",
      "source": [
        "import numpy as np\n",
        "\n",
        "# Definir los arreglos a y b\n",
        "a = np.array([1, 2, 3])\n",
        "b = np.array([4, 5, 6])\n",
        "\n",
        "# Apilar los arreglos horizontalmente\n",
        "stacked_array = np.hstack((a, b))\n",
        "\n",
        "# Imprimir el arreglo apilado\n",
        "print(stacked_array)\n"
      ],
      "metadata": {
        "colab": {
          "base_uri": "https://localhost:8080/"
        },
        "id": "Z_tPaQAgTOQw",
        "outputId": "222e66de-59a1-4fa5-ba27-7f7d99dcc4ba"
      },
      "execution_count": 19,
      "outputs": [
        {
          "output_type": "stream",
          "name": "stdout",
          "text": [
            "[1 2 3 4 5 6]\n"
          ]
        }
      ]
    },
    {
      "cell_type": "code",
      "source": [
        "import numpy as np\n",
        "\n",
        "# Crear el arreglo tmp\n",
        "tmp = np.arange(15)\n",
        "\n",
        "# Obtener todos los elementos entre 5 y 10\n",
        "items_between_5_and_10 = tmp[(tmp >= 5) & (tmp <= 10)]\n",
        "\n",
        "# Imprimir los elementos obtenidos\n",
        "print(items_between_5_and_10)\n"
      ],
      "metadata": {
        "colab": {
          "base_uri": "https://localhost:8080/"
        },
        "id": "srvQZkyzTSrA",
        "outputId": "13231bb0-dcf1-4533-d20e-1b26c0f560f0"
      },
      "execution_count": 20,
      "outputs": [
        {
          "output_type": "stream",
          "name": "stdout",
          "text": [
            "[ 5  6  7  8  9 10]\n"
          ]
        }
      ]
    },
    {
      "cell_type": "code",
      "source": [
        "import numpy as np\n",
        "\n",
        "# Definir la función escalar\n",
        "def maxx(x, y):\n",
        "    \"\"\"Obtener el máximo de dos elementos\"\"\"\n",
        "    if x >= y:\n",
        "        return x\n",
        "    else:\n",
        "        return y\n",
        "\n",
        "# Vectorizar la función para que funcione con arreglos numpy\n",
        "pair_max = np.vectorize(maxx)\n",
        "\n",
        "# Crear arreglos de ejemplo\n",
        "a = np.array([5, 7, 9, 8, 6, 4, 5])\n",
        "b = np.array([6, 3, 4, 8, 9, 7, 1])\n",
        "\n",
        "# Aplicar la función vectorizada a los arreglos\n",
        "result = pair_max(a, b)\n",
        "\n",
        "# Imprimir el resultado\n",
        "print(result)\n"
      ],
      "metadata": {
        "colab": {
          "base_uri": "https://localhost:8080/"
        },
        "id": "FmR2rWhJTi-w",
        "outputId": "d49aad00-0b7c-4a0a-8fb7-a71d5cece0fd"
      },
      "execution_count": 21,
      "outputs": [
        {
          "output_type": "stream",
          "name": "stdout",
          "text": [
            "[6 7 9 8 9 7 5]\n"
          ]
        }
      ]
    },
    {
      "cell_type": "code",
      "source": [
        "import numpy as np\n",
        "\n",
        "# Crear el arreglo arr\n",
        "arr = np.arange(9).reshape(3, 3)\n",
        "print(\"Arreglo original:\")\n",
        "print(arr)\n",
        "\n",
        "# Intercambiar las columnas 1 y 2\n",
        "arr[:, [1, 2]] = arr[:, [2, 1]]\n",
        "\n",
        "# Imprimir el arreglo modificado\n",
        "print(\"Arreglo después de intercambiar las columnas 1 y 2:\")\n",
        "print(arr)\n"
      ],
      "metadata": {
        "colab": {
          "base_uri": "https://localhost:8080/"
        },
        "id": "KiFlCst-Tkxn",
        "outputId": "9659092a-5adf-4761-c157-33720e136be9"
      },
      "execution_count": 22,
      "outputs": [
        {
          "output_type": "stream",
          "name": "stdout",
          "text": [
            "Arreglo original:\n",
            "[[0 1 2]\n",
            " [3 4 5]\n",
            " [6 7 8]]\n",
            "Arreglo después de intercambiar las columnas 1 y 2:\n",
            "[[0 2 1]\n",
            " [3 5 4]\n",
            " [6 8 7]]\n"
          ]
        }
      ]
    },
    {
      "cell_type": "code",
      "source": [
        "import numpy as np\n",
        "\n",
        "# Crear un arreglo 2D de forma 5x3 con números decimales aleatorios entre 5 y 10\n",
        "array_2d = np.random.uniform(5, 10, size=(5, 3))\n",
        "\n",
        "# Imprimir el arreglo\n",
        "print(array_2d)\n"
      ],
      "metadata": {
        "colab": {
          "base_uri": "https://localhost:8080/"
        },
        "id": "owxlAy5DUeg0",
        "outputId": "e8c9e4f1-f440-4662-8e21-96b8e8017289"
      },
      "execution_count": 23,
      "outputs": [
        {
          "output_type": "stream",
          "name": "stdout",
          "text": [
            "[[5.20347092 6.5159115  6.52333338]\n",
            " [6.74116554 5.20452146 5.60248174]\n",
            " [5.32612791 7.5835811  6.67199077]\n",
            " [5.85545874 9.47696171 6.51621722]\n",
            " [5.83428659 6.70021197 5.17135277]]\n"
          ]
        }
      ]
    }
  ]
}