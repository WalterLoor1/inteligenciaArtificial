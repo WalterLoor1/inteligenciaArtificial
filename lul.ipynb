{
  "nbformat": 4,
  "nbformat_minor": 0,
  "metadata": {
    "colab": {
      "provenance": [],
      "authorship_tag": "ABX9TyPVggJLSMFa9Okk5Hkz2PYN",
      "include_colab_link": true
    },
    "kernelspec": {
      "name": "python3",
      "display_name": "Python 3"
    },
    "language_info": {
      "name": "python"
    }
  },
  "cells": [
    {
      "cell_type": "markdown",
      "metadata": {
        "id": "view-in-github",
        "colab_type": "text"
      },
      "source": [
        "<a href=\"https://colab.research.google.com/github/WalterLoor1/inteligenciaArtificial/blob/main/lul.ipynb\" target=\"_parent\"><img src=\"https://colab.research.google.com/assets/colab-badge.svg\" alt=\"Open In Colab\"/></a>"
      ]
    },
    {
      "cell_type": "code",
      "execution_count": null,
      "metadata": {
        "colab": {
          "base_uri": "https://localhost:8080/"
        },
        "id": "QfJz1Q7kyMFV",
        "outputId": "b2f36bdb-99fe-4fd5-f550-a7bdb42e721d"
      },
      "outputs": [
        {
          "output_type": "stream",
          "name": "stdout",
          "text": [
            "2.0.3\n"
          ]
        }
      ],
      "source": [
        "import numpy as pd\n",
        "\n",
        "import pandas as pd\n",
        "\n",
        "print(pd.__version__)"
      ]
    },
    {
      "cell_type": "code",
      "source": [
        "serieData=pd.Series(data=[100,200,300],index=['Juan','Pedro','Lucas'])\n",
        "print('/////')\n",
        "print(serieData)\n",
        "print(serieData['Pedro'])\n",
        "\n",
        "\n",
        "print(serieData.index)\n",
        "print('Pedro' in serieData)"
      ],
      "metadata": {
        "colab": {
          "base_uri": "https://localhost:8080/"
        },
        "id": "YCdyxRpIzZma",
        "outputId": "38048391-ca91-46c4-e955-47ce5cb9545a"
      },
      "execution_count": null,
      "outputs": [
        {
          "output_type": "stream",
          "name": "stdout",
          "text": [
            "/////\n",
            "Juan     100\n",
            "Pedro    200\n",
            "Lucas    300\n",
            "dtype: int64\n",
            "200\n",
            "Index(['Juan', 'Pedro', 'Lucas'], dtype='object')\n",
            "True\n"
          ]
        }
      ]
    },
    {
      "cell_type": "code",
      "source": [
        "myDictionary={'one':pd.Series([100,200,300],index=['Juan','Pedro','Lucas']),'two':pd.Series ([11,22,33],index=['Juan','Pedro','Lucas'])}\n",
        "\n",
        "#series and dataframe\n",
        "\n",
        "df=pd.DataFrame(myDictionary)\n",
        "print(df)\n",
        "print('we are here ........')\n",
        "print(df.index)\n",
        "print(df.columns)\n",
        "\n",
        "\n",
        "print('///////')\n",
        "print(df.loc['Juan'])\n",
        "\n",
        "\n"
      ],
      "metadata": {
        "colab": {
          "base_uri": "https://localhost:8080/"
        },
        "id": "q9LTDFKL1HkD",
        "outputId": "5d53e785-6cee-4ce2-8cfe-83aa3760ee8e"
      },
      "execution_count": null,
      "outputs": [
        {
          "output_type": "stream",
          "name": "stdout",
          "text": [
            "       one  two\n",
            "Juan   100   11\n",
            "Pedro  200   22\n",
            "Lucas  300   33\n",
            "we are here ........\n",
            "Index(['Juan', 'Pedro', 'Lucas'], dtype='object')\n",
            "Index(['one', 'two'], dtype='object')\n",
            "///////\n",
            "one    100\n",
            "two     11\n",
            "Name: Juan, dtype: int64\n"
          ]
        }
      ]
    },
    {
      "cell_type": "code",
      "source": [],
      "metadata": {
        "id": "2qEpeVIF6ueD"
      },
      "execution_count": null,
      "outputs": []
    }
  ]
}