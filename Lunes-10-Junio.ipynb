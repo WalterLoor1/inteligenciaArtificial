{
  "cells": [
    {
      "cell_type": "markdown",
      "metadata": {
        "id": "view-in-github",
        "colab_type": "text"
      },
      "source": [
        "<a href=\"https://colab.research.google.com/github/WalterLoor1/inteligenciaArtificial/blob/main/Lunes-10-Junio.ipynb\" target=\"_parent\"><img src=\"https://colab.research.google.com/assets/colab-badge.svg\" alt=\"Open In Colab\"/></a>"
      ]
    },
    {
      "cell_type": "code",
      "source": [
        "!python --version"
      ],
      "metadata": {
        "colab": {
          "base_uri": "https://localhost:8080/"
        },
        "id": "WDHFh9aPBfIw",
        "outputId": "df7596aa-f37e-435e-b8cf-67f29c80b7db"
      },
      "execution_count": 5,
      "outputs": [
        {
          "output_type": "stream",
          "name": "stdout",
          "text": [
            "Python 3.10.12\n"
          ]
        }
      ]
    },
    {
      "cell_type": "code",
      "source": [
        "myNumber= 3\n",
        "myNumberDecimal=3.6\n",
        "states=True"
      ],
      "metadata": {
        "id": "WZrFcxJCICh0"
      },
      "execution_count": 6,
      "outputs": []
    },
    {
      "cell_type": "code",
      "source": [
        "print(f'valor entero: {myNumber}')\n",
        "print(f'valor Decimal: {myNumberDecimal}')\n",
        "print(f'valor Buleano: {states}')"
      ],
      "metadata": {
        "id": "sA8ErF2QIEva",
        "outputId": "5616df9e-130e-4f04-b0f3-65322efe3600",
        "colab": {
          "base_uri": "https://localhost:8080/"
        }
      },
      "execution_count": 7,
      "outputs": [
        {
          "output_type": "stream",
          "name": "stdout",
          "text": [
            "valor entero: 3\n",
            "valor Decimal: 3.6\n",
            "valor Buleano: True\n"
          ]
        }
      ]
    },
    {
      "cell_type": "code",
      "source": [
        "aux1=10\n",
        "aux2=2\n",
        "\n",
        "print(\"la suma de las variables aux1 + aux2 =\",aux1+aux2)\n",
        "print(\"la resta de las variables aux1 - aux2 =\",aux1-aux2)\n",
        "print(\"la multiplicacion de las variables aux1 * aux2 =\",aux1*aux2)\n",
        "print(\"la division de las variables aux1 / aux2 =\",aux1/aux2)\n",
        "print(\"la potencia de las variables aux1 ^ aux2 =\",aux1**aux2)"
      ],
      "metadata": {
        "id": "gC543GOXIG8C",
        "outputId": "6e0d73fd-ab87-4f84-b732-016dedadba0b",
        "colab": {
          "base_uri": "https://localhost:8080/"
        }
      },
      "execution_count": 8,
      "outputs": [
        {
          "output_type": "stream",
          "name": "stdout",
          "text": [
            "la suma de las variables aux1 + aux2 = 12\n",
            "la resta de las variables aux1 - aux2 = 8\n",
            "la multiplicacion de las variables aux1 * aux2 = 20\n",
            "la division de las variables aux1 / aux2 = 5.0\n",
            "la potencia de las variables aux1 ^ aux2 = 100\n"
          ]
        }
      ]
    },
    {
      "cell_type": "code",
      "source": [
        "var1= 'Hola'\n",
        "var2= '!,Walther'\n",
        "\n",
        "print (var1+var2)\n",
        "\n",
        "print (var1*3)"
      ],
      "metadata": {
        "id": "yMGGeehAIJE6",
        "outputId": "f7c63ccc-dfd9-4a83-e59d-9e0474e97d5d",
        "colab": {
          "base_uri": "https://localhost:8080/"
        }
      },
      "execution_count": 9,
      "outputs": [
        {
          "output_type": "stream",
          "name": "stdout",
          "text": [
            "Hola!,Walther\n",
            "HolaHolaHola\n"
          ]
        }
      ]
    },
    {
      "cell_type": "code",
      "source": [
        "num1= 10\n",
        "num2= 10.5\n"
      ],
      "metadata": {
        "id": "bSD2IiiyILSK"
      },
      "execution_count": 10,
      "outputs": []
    },
    {
      "cell_type": "code",
      "source": [
        "print('The type of the num1 is:',type(num1))\n",
        "print('The type of the num1 is:',type(num2))"
      ],
      "metadata": {
        "id": "DK7i66UNIOMb",
        "outputId": "9622153f-9ecf-4b95-f17a-bb70a2c00b8f",
        "colab": {
          "base_uri": "https://localhost:8080/"
        }
      },
      "execution_count": 11,
      "outputs": [
        {
          "output_type": "stream",
          "name": "stdout",
          "text": [
            "The type of the num1 is: <class 'int'>\n",
            "The type of the num1 is: <class 'float'>\n"
          ]
        }
      ]
    }
  ],
  "metadata": {
    "colab": {
      "name": "Te damos la bienvenida a Colaboratory",
      "toc_visible": true,
      "provenance": [],
      "include_colab_link": true
    },
    "kernelspec": {
      "display_name": "Python 3",
      "name": "python3"
    }
  },
  "nbformat": 4,
  "nbformat_minor": 0
}