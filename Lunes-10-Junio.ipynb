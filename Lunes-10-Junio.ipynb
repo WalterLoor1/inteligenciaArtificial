{
  "cells": [
    {
      "cell_type": "markdown",
      "metadata": {
        "id": "view-in-github",
        "colab_type": "text"
      },
      "source": [
        "<a href=\"https://colab.research.google.com/github/WalterLoor1/inteligenciaArtificial/blob/main/Lunes-10-Junio.ipynb\" target=\"_parent\"><img src=\"https://colab.research.google.com/assets/colab-badge.svg\" alt=\"Open In Colab\"/></a>"
      ]
    },
    {
      "cell_type": "code",
      "source": [
        "!python --version"
      ],
      "metadata": {
        "colab": {
          "base_uri": "https://localhost:8080/"
        },
        "id": "WDHFh9aPBfIw",
        "outputId": "df7596aa-f37e-435e-b8cf-67f29c80b7db"
      },
      "execution_count": null,
      "outputs": [
        {
          "output_type": "stream",
          "name": "stdout",
          "text": [
            "Python 3.10.12\n"
          ]
        }
      ]
    },
    {
      "cell_type": "markdown",
      "source": [],
      "metadata": {
        "id": "wZxCGjW-lqIg"
      }
    },
    {
      "cell_type": "code",
      "source": [
        "myNumber= 3\n",
        "myNumberDecimal=3.6\n",
        "states=True"
      ],
      "metadata": {
        "id": "WZrFcxJCICh0"
      },
      "execution_count": null,
      "outputs": []
    },
    {
      "cell_type": "code",
      "source": [
        "print(f'valor entero: {myNumber}')\n",
        "print(f'valor Decimal: {myNumberDecimal}')\n",
        "print(f'valor Buleano: {states}')"
      ],
      "metadata": {
        "id": "sA8ErF2QIEva",
        "outputId": "5616df9e-130e-4f04-b0f3-65322efe3600",
        "colab": {
          "base_uri": "https://localhost:8080/"
        }
      },
      "execution_count": null,
      "outputs": [
        {
          "output_type": "stream",
          "name": "stdout",
          "text": [
            "valor entero: 3\n",
            "valor Decimal: 3.6\n",
            "valor Buleano: True\n"
          ]
        }
      ]
    },
    {
      "cell_type": "code",
      "source": [
        "aux1=10\n",
        "aux2=2\n",
        "\n",
        "print(\"la suma de las variables aux1 + aux2 =\",aux1+aux2)\n",
        "print(\"la resta de las variables aux1 - aux2 =\",aux1-aux2)\n",
        "print(\"la multiplicacion de las variables aux1 * aux2 =\",aux1*aux2)\n",
        "print(\"la division de las variables aux1 / aux2 =\",aux1/aux2)\n",
        "print(\"la potencia de las variables aux1 ^ aux2 =\",aux1**aux2)"
      ],
      "metadata": {
        "id": "gC543GOXIG8C",
        "outputId": "6e0d73fd-ab87-4f84-b732-016dedadba0b",
        "colab": {
          "base_uri": "https://localhost:8080/"
        }
      },
      "execution_count": null,
      "outputs": [
        {
          "output_type": "stream",
          "name": "stdout",
          "text": [
            "la suma de las variables aux1 + aux2 = 12\n",
            "la resta de las variables aux1 - aux2 = 8\n",
            "la multiplicacion de las variables aux1 * aux2 = 20\n",
            "la division de las variables aux1 / aux2 = 5.0\n",
            "la potencia de las variables aux1 ^ aux2 = 100\n"
          ]
        }
      ]
    },
    {
      "cell_type": "code",
      "source": [
        "var1= 'Hola'\n",
        "var2= '!,Walther'\n",
        "\n",
        "print (var1+var2)\n",
        "\n",
        "print (var1*3)"
      ],
      "metadata": {
        "id": "yMGGeehAIJE6",
        "outputId": "f7c63ccc-dfd9-4a83-e59d-9e0474e97d5d",
        "colab": {
          "base_uri": "https://localhost:8080/"
        }
      },
      "execution_count": null,
      "outputs": [
        {
          "output_type": "stream",
          "name": "stdout",
          "text": [
            "Hola!,Walther\n",
            "HolaHolaHola\n"
          ]
        }
      ]
    },
    {
      "cell_type": "code",
      "source": [
        "num1= 10\n",
        "num2= 10.5\n"
      ],
      "metadata": {
        "id": "bSD2IiiyILSK"
      },
      "execution_count": null,
      "outputs": []
    },
    {
      "cell_type": "code",
      "source": [
        "print('The type of the num1 is:',type(num1))\n",
        "print('The type of the num1 is:',type(num2))"
      ],
      "metadata": {
        "id": "DK7i66UNIOMb",
        "outputId": "9622153f-9ecf-4b95-f17a-bb70a2c00b8f",
        "colab": {
          "base_uri": "https://localhost:8080/"
        }
      },
      "execution_count": null,
      "outputs": [
        {
          "output_type": "stream",
          "name": "stdout",
          "text": [
            "The type of the num1 is: <class 'int'>\n",
            "The type of the num1 is: <class 'float'>\n"
          ]
        }
      ]
    },
    {
      "cell_type": "code",
      "source": [
        "#Martes 24 junio 2024\n",
        "tmp=list()\n",
        "tmp.append(2)\n",
        "print(tmp)\n",
        "tmp.append(\"Walther\")\n",
        "print(tmp)\n",
        "tmp.append(2)\n",
        "tmp.append(\"Loor\")\n",
        "print(tmp)\n",
        "print(tmp[3])\n",
        "aux=tmp[3]\n",
        "#aux.capitaliza()\n",
        "print(aux.upper())\n",
        "\n",
        "tmpl='hello'\n",
        "print(tmpl.capitalize())\n",
        "\n",
        "\n",
        "aux1=[1,2,3,4,5,6,7,8,9,10]\n",
        "print(aux1)\n",
        "\n",
        "aux1[4]=10\n",
        "print(aux1)\n",
        "\n",
        "\n",
        "print(aux1[-1])\n",
        "print(aux1[3:5])\n",
        "print(aux1[0:5])\n",
        "print(aux1[:5])\n",
        "\n",
        "\n",
        "aux2=list()\n",
        "for i in range(100):\n",
        "  aux2.append(i)\n",
        "print(aux2[:20])\n",
        "\n",
        "\n",
        "\n",
        "aux3 = list()\n",
        "for i in range(100):\n",
        "    aux3.append(i)\n",
        "\n",
        "pares = [num for num in aux3 if num % 2 == 0]\n",
        "print(pares)\n",
        "\n",
        "\n",
        "aux4=list()\n",
        "for indx, elem in enumerate(aux2):\n",
        "  if aux2[indx]%2==0:\n",
        "    aux4.append(aux2[indx])\n",
        "print(aux4)\n",
        "\n",
        "\n",
        "aux5=list()\n",
        "for indx, elem in enumerate(aux2):\n",
        "  if aux2[indx]%2==1:\n",
        "    aux5.append(aux2[indx])\n",
        "print(aux5)\n",
        "\n",
        "\n",
        "aux6 = list()\n",
        "for indx, elem in enumerate(aux2):\n",
        "    if aux2[indx] % 2 == 0:\n",
        "        aux6.append(aux2[indx] ** 2)\n",
        "\n",
        "print(aux6)\n",
        "\n",
        "\n",
        "animals=['gato','perro','mono','conejo']\n",
        "for animal in animals:\n",
        "  print(animal)\n",
        "\n",
        "tmp3=[ i**2 for i in range(10) ]\n",
        "print(tmp3)\n",
        "\n",
        "pares = [num for num in tmp3 if num % 2 == 0]\n",
        "print(pares)"
      ],
      "metadata": {
        "colab": {
          "base_uri": "https://localhost:8080/"
        },
        "id": "II3Crs81ly68",
        "outputId": "0750b97f-405c-46a8-bc11-454ec9e5d2d6"
      },
      "execution_count": null,
      "outputs": [
        {
          "output_type": "stream",
          "name": "stdout",
          "text": [
            "[2]\n",
            "[2, 'Walther']\n",
            "[2, 'Walther', 2, 'Loor']\n",
            "Loor\n",
            "LOOR\n",
            "Hello\n",
            "[1, 2, 3, 4, 5, 6, 7, 8, 9, 10]\n",
            "[1, 2, 3, 4, 10, 6, 7, 8, 9, 10]\n",
            "10\n",
            "[4, 10]\n",
            "[1, 2, 3, 4, 10]\n",
            "[1, 2, 3, 4, 10]\n",
            "[0, 1, 2, 3, 4, 5, 6, 7, 8, 9, 10, 11, 12, 13, 14, 15, 16, 17, 18, 19]\n",
            "[0, 2, 4, 6, 8, 10, 12, 14, 16, 18, 20, 22, 24, 26, 28, 30, 32, 34, 36, 38, 40, 42, 44, 46, 48, 50, 52, 54, 56, 58, 60, 62, 64, 66, 68, 70, 72, 74, 76, 78, 80, 82, 84, 86, 88, 90, 92, 94, 96, 98]\n",
            "[0, 2, 4, 6, 8, 10, 12, 14, 16, 18, 20, 22, 24, 26, 28, 30, 32, 34, 36, 38, 40, 42, 44, 46, 48, 50, 52, 54, 56, 58, 60, 62, 64, 66, 68, 70, 72, 74, 76, 78, 80, 82, 84, 86, 88, 90, 92, 94, 96, 98]\n",
            "[1, 3, 5, 7, 9, 11, 13, 15, 17, 19, 21, 23, 25, 27, 29, 31, 33, 35, 37, 39, 41, 43, 45, 47, 49, 51, 53, 55, 57, 59, 61, 63, 65, 67, 69, 71, 73, 75, 77, 79, 81, 83, 85, 87, 89, 91, 93, 95, 97, 99]\n",
            "[0, 4, 16, 36, 64, 100, 144, 196, 256, 324, 400, 484, 576, 676, 784, 900, 1024, 1156, 1296, 1444, 1600, 1764, 1936, 2116, 2304, 2500, 2704, 2916, 3136, 3364, 3600, 3844, 4096, 4356, 4624, 4900, 5184, 5476, 5776, 6084, 6400, 6724, 7056, 7396, 7744, 8100, 8464, 8836, 9216, 9604]\n",
            "gato\n",
            "perro\n",
            "mono\n",
            "conejo\n",
            "[0, 1, 4, 9, 16, 25, 36, 49, 64, 81]\n",
            "[0, 4, 16, 36, 64]\n"
          ]
        }
      ]
    },
    {
      "cell_type": "code",
      "source": [
        "myDictionary={'Gato':'Bonito', 'Perro':'Grande'}\n",
        "\n",
        "print(myDictionary['Gato'])\n",
        "myDictAux={'monkey':'black','mouse':'small','rabbit':'white'}\n",
        "myDictionary.update(myDictAux)\n",
        "print(myDictionary)\n",
        "for key, value in myDictionary.items():\n",
        "  print(f'key : {key} Value: {value}')\n",
        "\n",
        "\n",
        "  myList=[1,2,3,4,5,6]\n",
        "  myDictAux1={x:x**2 for x in myList}\n",
        "  print(myDictAux1)"
      ],
      "metadata": {
        "id": "AcZCtcVdwM1y",
        "outputId": "18059c54-a42e-4e10-b43b-f23198041e9e",
        "colab": {
          "base_uri": "https://localhost:8080/"
        }
      },
      "execution_count": 45,
      "outputs": [
        {
          "output_type": "stream",
          "name": "stdout",
          "text": [
            "Bonito\n",
            "{'Gato': 'Bonito', 'Perro': 'Grande', 'monkey': 'black', 'mouse': 'small', 'rabbit': 'white'}\n",
            "key : Gato Value: Bonito\n",
            "{1: 1, 2: 4, 3: 9, 4: 16, 5: 25, 6: 36}\n",
            "key : Perro Value: Grande\n",
            "{1: 1, 2: 4, 3: 9, 4: 16, 5: 25, 6: 36}\n",
            "key : monkey Value: black\n",
            "{1: 1, 2: 4, 3: 9, 4: 16, 5: 25, 6: 36}\n",
            "key : mouse Value: small\n",
            "{1: 1, 2: 4, 3: 9, 4: 16, 5: 25, 6: 36}\n",
            "key : rabbit Value: white\n",
            "{1: 1, 2: 4, 3: 9, 4: 16, 5: 25, 6: 36}\n"
          ]
        }
      ]
    },
    {
      "cell_type": "markdown",
      "source": [],
      "metadata": {
        "id": "CKiXwkKvwMNz"
      }
    },
    {
      "cell_type": "code",
      "source": [
        "#def suma(var1, var2):\n",
        "#  tmp=var1+var2\n",
        " # return tmp\n",
        "\n",
        "\n",
        "#num1=3\n",
        "#num2=7\n",
        "#print(suma(num1,num2))\n",
        "\n",
        "\n",
        "def operacion(var1, var2, tipo):\n",
        "    if tipo == 'suma':\n",
        "        resultado = var1 + var2\n",
        "    elif tipo == 'resta':\n",
        "        resultado = var1 - var2\n",
        "    else:\n",
        "        resultado = None  # Manejo de caso no válido\n",
        "\n",
        "    return resultado\n",
        "\n",
        "num1 = 3\n",
        "num2 = 7\n",
        "tipo_operacion = 'suma'  # Cambia 'suma' por 'resta' si quieres hacer una resta\n",
        "print(operacion(num1, num2, tipo_operacion))"
      ],
      "metadata": {
        "id": "BViPb2LH4GG9",
        "outputId": "2fb95ce4-6414-42f5-e9c4-a66920c46e2b",
        "colab": {
          "base_uri": "https://localhost:8080/"
        }
      },
      "execution_count": 52,
      "outputs": [
        {
          "output_type": "stream",
          "name": "stdout",
          "text": [
            "10\n"
          ]
        }
      ]
    },
    {
      "cell_type": "code",
      "source": [
        "\n",
        "def determinar_signo_imprimir(elemento):\n",
        "    if elemento > 0:\n",
        "        print(f\"El elemento {elemento} es positivo.\")\n",
        "    elif elemento < 0:\n",
        "        print(f\"El elemento {elemento} es negativo.\")\n",
        "    else:\n",
        "        print(f\"El elemento {elemento} es cero.\")\n",
        "\n",
        "# Crear la lista con los elementos\n",
        "lista_elementos = [1, -1, 0]\n",
        "\n",
        "# Llamar a la función con cada elemento de la lista\n",
        "for elemento in lista_elementos:\n",
        "    determinar_signo_imprimir(elemento)"
      ],
      "metadata": {
        "id": "eiBMiyqO7O47",
        "outputId": "a78e309b-9e0e-46e2-fd96-566ac8e85f43",
        "colab": {
          "base_uri": "https://localhost:8080/"
        }
      },
      "execution_count": 57,
      "outputs": [
        {
          "output_type": "stream",
          "name": "stdout",
          "text": [
            "El elemento 1 es positivo.\n",
            "El elemento -1 es negativo.\n",
            "El elemento 0 es cero.\n"
          ]
        }
      ]
    }
  ],
  "metadata": {
    "colab": {
      "name": "Te damos la bienvenida a Colaboratory",
      "toc_visible": true,
      "provenance": [],
      "include_colab_link": true
    },
    "kernelspec": {
      "display_name": "Python 3",
      "name": "python3"
    }
  },
  "nbformat": 4,
  "nbformat_minor": 0
}