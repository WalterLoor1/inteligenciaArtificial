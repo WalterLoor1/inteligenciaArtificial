{
  "nbformat": 4,
  "nbformat_minor": 0,
  "metadata": {
    "colab": {
      "provenance": [],
      "authorship_tag": "ABX9TyOQoKwomA79I2IyG6EfCIRT",
      "include_colab_link": true
    },
    "kernelspec": {
      "name": "python3",
      "display_name": "Python 3"
    },
    "language_info": {
      "name": "python"
    }
  },
  "cells": [
    {
      "cell_type": "markdown",
      "metadata": {
        "id": "view-in-github",
        "colab_type": "text"
      },
      "source": [
        "<a href=\"https://colab.research.google.com/github/WalterLoor1/inteligenciaArtificial/blob/main/01-07-2024.ipynb\" target=\"_parent\"><img src=\"https://colab.research.google.com/assets/colab-badge.svg\" alt=\"Open In Colab\"/></a>"
      ]
    },
    {
      "cell_type": "code",
      "execution_count": null,
      "metadata": {
        "colab": {
          "base_uri": "https://localhost:8080/"
        },
        "id": "UNo_UEL_n-zY",
        "outputId": "c7cfada1-c0e1-400a-be0e-a20b4cdff4c1"
      },
      "outputs": [
        {
          "output_type": "stream",
          "name": "stdout",
          "text": [
            "(3,)\n",
            "<class 'numpy.ndarray'>\n",
            "[11 22 33]\n",
            "11 22\n",
            "[11 22]\n",
            "[22 33]\n",
            "[ 11 888  33]\n"
          ]
        }
      ],
      "source": [
        "import numpy as np\n",
        "\n",
        "a=np.array([11,22,33])\n",
        "print(a.shape)\n",
        "print(type(a))\n",
        "print(a)\n",
        "\n",
        "print(a[0], a[1])\n",
        "print(a[0:2])\n",
        "print(a[1:])\n",
        "\n",
        "a[1]=888\n",
        "print(a)\n"
      ]
    },
    {
      "cell_type": "code",
      "source": [
        "b=np.array([[11,22,33],[44,55,66],[77,88,99]])\n",
        "print(b.shape)\n",
        "print(type(b))\n",
        "print(b)\n",
        "\n",
        "print(b[1,1])\n",
        "aux=b[1:,1:].copy()\n",
        "print(aux.shape)\n",
        "print(aux)\n",
        "\n",
        "print('ANTES....')\n",
        "print(b)\n",
        "print(aux)\n",
        "\n",
        "aux[1,1]=1000\n",
        "\n",
        "print('DESPUES...')\n",
        "print(b)\n",
        "print(aux)"
      ],
      "metadata": {
        "colab": {
          "base_uri": "https://localhost:8080/"
        },
        "id": "ptqRIHJcoIXp",
        "outputId": "f96f4638-7a4a-4a9a-ec78-cbdb80e83937"
      },
      "execution_count": null,
      "outputs": [
        {
          "output_type": "stream",
          "name": "stdout",
          "text": [
            "(3, 3)\n",
            "<class 'numpy.ndarray'>\n",
            "[[11 22 33]\n",
            " [44 55 66]\n",
            " [77 88 99]]\n",
            "55\n",
            "(2, 2)\n",
            "[[55 66]\n",
            " [88 99]]\n",
            "ANTES....\n",
            "[[11 22 33]\n",
            " [44 55 66]\n",
            " [77 88 99]]\n",
            "[[55 66]\n",
            " [88 99]]\n",
            "DESPUES...\n",
            "[[11 22 33]\n",
            " [44 55 66]\n",
            " [77 88 99]]\n",
            "[[  55   66]\n",
            " [  88 1000]]\n"
          ]
        }
      ]
    },
    {
      "cell_type": "code",
      "source": [
        "c=np.zeros((4,4))\n",
        "print(c)\n",
        "print(c.shape)\n",
        "\n",
        "d=np.full((4,4),9)\n",
        "print(d)"
      ],
      "metadata": {
        "colab": {
          "base_uri": "https://localhost:8080/"
        },
        "id": "SKsfm-7eoOJk",
        "outputId": "3a5847ee-6f5f-4b71-8f37-16df5ecf0cac"
      },
      "execution_count": null,
      "outputs": [
        {
          "output_type": "stream",
          "name": "stdout",
          "text": [
            "[[0. 0. 0. 0.]\n",
            " [0. 0. 0. 0.]\n",
            " [0. 0. 0. 0.]\n",
            " [0. 0. 0. 0.]]\n",
            "(4, 4)\n",
            "[[9 9 9 9]\n",
            " [9 9 9 9]\n",
            " [9 9 9 9]\n",
            " [9 9 9 9]]\n"
          ]
        }
      ]
    },
    {
      "cell_type": "code",
      "source": [
        "e=np.eye(3,3)\n",
        "print(e)\n",
        "f=np.ones((4,5))\n",
        "print(f)"
      ],
      "metadata": {
        "colab": {
          "base_uri": "https://localhost:8080/"
        },
        "id": "SW67oOfloR8q",
        "outputId": "fc405654-ded5-406e-c577-a201939721c9"
      },
      "execution_count": null,
      "outputs": [
        {
          "output_type": "stream",
          "name": "stdout",
          "text": [
            "[[1. 0. 0.]\n",
            " [0. 1. 0.]\n",
            " [0. 0. 1.]]\n",
            "[[1. 1. 1. 1. 1.]\n",
            " [1. 1. 1. 1. 1.]\n",
            " [1. 1. 1. 1. 1.]\n",
            " [1. 1. 1. 1. 1.]]\n"
          ]
        }
      ]
    },
    {
      "cell_type": "code",
      "source": [
        "g=np.random.random((5,5))\n",
        "print(g)"
      ],
      "metadata": {
        "colab": {
          "base_uri": "https://localhost:8080/"
        },
        "id": "HMtsomaZosQA",
        "outputId": "f9cd5ab0-d3a5-4552-d19a-3520f6c7bcfe"
      },
      "execution_count": null,
      "outputs": [
        {
          "output_type": "stream",
          "name": "stdout",
          "text": [
            "[[0.20686026 0.98739074 0.45603979 0.50498618 0.27503276]\n",
            " [0.8403465  0.06647485 0.90501682 0.09235277 0.34350037]\n",
            " [0.90806807 0.10442474 0.14724265 0.81950163 0.54883183]\n",
            " [0.08510072 0.91704375 0.80838014 0.73721385 0.52471133]\n",
            " [0.42877074 0.36917284 0.41992999 0.89374162 0.04357424]]\n"
          ]
        }
      ]
    },
    {
      "cell_type": "code",
      "source": [
        "tmp1=np.random.randint(1,21, size=(4,4))\n",
        "print(tmp1)\n",
        "rows=np.array([0,1,2,0])\n",
        "cols=np.arange(4)\n",
        "\n",
        "print(rows)\n",
        "print(cols)"
      ],
      "metadata": {
        "colab": {
          "base_uri": "https://localhost:8080/"
        },
        "id": "uPJuN8BWowZ_",
        "outputId": "00a42895-aa07-4ce3-b718-4eafa12e5d35"
      },
      "execution_count": null,
      "outputs": [
        {
          "output_type": "stream",
          "name": "stdout",
          "text": [
            "[[10  3 18  2]\n",
            " [ 2  8 20  1]\n",
            " [ 9  5  4 11]\n",
            " [ 2  3 15  4]]\n",
            "[0 1 2 0]\n",
            "[0 1 2 3]\n"
          ]
        }
      ]
    },
    {
      "cell_type": "code",
      "source": [
        "tmp1[rows, cols]=100\n",
        "print(tmp1)"
      ],
      "metadata": {
        "colab": {
          "base_uri": "https://localhost:8080/"
        },
        "id": "b-hpEMWso7y-",
        "outputId": "a9ed5527-f66d-4a1a-e3b4-d02f96647874"
      },
      "execution_count": null,
      "outputs": [
        {
          "output_type": "stream",
          "name": "stdout",
          "text": [
            "[[100   3  18 100]\n",
            " [  2 100  20   1]\n",
            " [  9   5 100  11]\n",
            " [  2   3  15   4]]\n"
          ]
        }
      ]
    },
    {
      "cell_type": "code",
      "source": [
        "tmp2=np.random.randint(20,50, size=(6,6))\n",
        "print(tmp2)"
      ],
      "metadata": {
        "colab": {
          "base_uri": "https://localhost:8080/"
        },
        "id": "0PSSW0Dco-Fn",
        "outputId": "a99161a1-8b08-448b-a36a-6fd5cf314729"
      },
      "execution_count": null,
      "outputs": [
        {
          "output_type": "stream",
          "name": "stdout",
          "text": [
            "[[33 20 25 25 40 47]\n",
            " [39 33 43 23 33 29]\n",
            " [24 44 36 20 42 27]\n",
            " [33 27 39 38 26 39]\n",
            " [43 42 23 47 26 36]\n",
            " [39 23 45 43 34 32]]\n"
          ]
        }
      ]
    },
    {
      "cell_type": "code",
      "source": [
        "mask = tmp2 > 45\n",
        "print(mask)\n",
        "elemay = tmp2[mask]\n",
        "\n",
        "print(\"Elementos mayores a 45:\")\n",
        "print(elemay)\n"
      ],
      "metadata": {
        "colab": {
          "base_uri": "https://localhost:8080/"
        },
        "id": "_VD_VsOdpAT2",
        "outputId": "6c9ff272-4e03-4b33-9c07-33d872850422"
      },
      "execution_count": null,
      "outputs": [
        {
          "output_type": "stream",
          "name": "stdout",
          "text": [
            "[[False False False False False  True]\n",
            " [False False False False False False]\n",
            " [False False False False False False]\n",
            " [False False False False False False]\n",
            " [False False False  True False False]\n",
            " [False False False False False False]]\n",
            "Elementos mayores a 45:\n",
            "[47 47]\n"
          ]
        }
      ]
    },
    {
      "cell_type": "code",
      "source": [
        "tmp3=np.random.randint(1,100, size=(10,10))\n",
        "print(tmp3)"
      ],
      "metadata": {
        "colab": {
          "base_uri": "https://localhost:8080/"
        },
        "id": "tJYZ0DOhpCi2",
        "outputId": "6ebf224f-848f-4546-eafc-38f846d59779"
      },
      "execution_count": null,
      "outputs": [
        {
          "output_type": "stream",
          "name": "stdout",
          "text": [
            "[[75 44 48  1  8 95 50 32 47  3]\n",
            " [13 77 39 37  7 91 63 34 48 91]\n",
            " [95 34 12 66 73 89 11 91 56 32]\n",
            " [54 55 13 23 47 23  7 96 53 29]\n",
            " [81 46 18 94 31 31 48 63 32 37]\n",
            " [66 27 67 76 16 79  6 98 84 36]\n",
            " [74 13 17 69 59 70 47 71 49 42]\n",
            " [13 64 81 77 37 28 16 21 20 41]\n",
            " [42 84 53 40 47 64 19 31 87 59]\n",
            " [56 94 60 66 28 24 51 21 82 76]]\n"
          ]
        }
      ]
    },
    {
      "cell_type": "code",
      "source": [
        "mask2 = ((tmp3%2)==0)\n",
        "# print(mask2)\n",
        "elepar = tmp3[mask2]\n",
        "\n",
        "print(\"Elementos pares:\")\n",
        "print(elepar)"
      ],
      "metadata": {
        "colab": {
          "base_uri": "https://localhost:8080/"
        },
        "id": "_2qSqslypE0e",
        "outputId": "af77fa50-b11f-47fc-9fed-84910eef66a3"
      },
      "execution_count": null,
      "outputs": [
        {
          "output_type": "stream",
          "name": "stdout",
          "text": [
            "Elementos pares:\n",
            "[44 48  8 50 32 34 48 34 12 66 56 32 54 96 46 18 94 48 32 66 76 16  6 98\n",
            " 84 36 74 70 42 64 28 16 20 42 84 40 64 56 94 60 66 28 24 82 76]\n"
          ]
        }
      ]
    },
    {
      "cell_type": "code",
      "source": [
        "tmp4=np.array([1,2,3,4,5],dtype=np.float64)\n",
        "print(tmp4.dtype)\n",
        "print(tmp4)"
      ],
      "metadata": {
        "colab": {
          "base_uri": "https://localhost:8080/"
        },
        "id": "TQwb1SJXpHo_",
        "outputId": "3e61522d-2a05-406c-8fc1-cb9d66bb4690"
      },
      "execution_count": null,
      "outputs": [
        {
          "output_type": "stream",
          "name": "stdout",
          "text": [
            "float64\n",
            "[1. 2. 3. 4. 5.]\n"
          ]
        }
      ]
    },
    {
      "cell_type": "code",
      "source": [
        "x=np.array([[1,2],[3,4]])\n",
        "y=np.array([[5,6],[7,8]])\n",
        "\n",
        "print(x)\n",
        "print(y)\n",
        "print('SUMA')\n",
        "print(np.add(x,y))\n",
        "print('RESTA')\n",
        "print(np.subtract(x,y))\n",
        "print('MULTIPLICACION')\n",
        "print(np.multiply(x,y))\n",
        "print('DIVISION')\n",
        "print(np.divide(x,y))\n",
        "print('RAIZ')\n",
        "print(np.sqrt(x))\n",
        "print('POTENCIA')\n",
        "print(np.power(x,y))"
      ],
      "metadata": {
        "colab": {
          "base_uri": "https://localhost:8080/"
        },
        "id": "g5mpX7-lpLFG",
        "outputId": "1ed68495-bbaa-4abd-e809-fa41b7056664"
      },
      "execution_count": null,
      "outputs": [
        {
          "output_type": "stream",
          "name": "stdout",
          "text": [
            "[[1 2]\n",
            " [3 4]]\n",
            "[[5 6]\n",
            " [7 8]]\n",
            "SUMA\n",
            "[[ 6  8]\n",
            " [10 12]]\n",
            "RESTA\n",
            "[[-4 -4]\n",
            " [-4 -4]]\n",
            "MULTIPLICACION\n",
            "[[ 5 12]\n",
            " [21 32]]\n",
            "DIVISION\n",
            "[[0.2        0.33333333]\n",
            " [0.42857143 0.5       ]]\n",
            "RAIZ\n",
            "[[1.         1.41421356]\n",
            " [1.73205081 2.        ]]\n",
            "POTENCIA\n",
            "[[    1    64]\n",
            " [ 2187 65536]]\n"
          ]
        }
      ]
    },
    {
      "cell_type": "code",
      "source": [
        "tmp5=np.random.randint(1,10, size=(2,5))\n",
        "print(tmp5)\n",
        "aux=tmp5.mean()\n",
        "print(aux)"
      ],
      "metadata": {
        "colab": {
          "base_uri": "https://localhost:8080/"
        },
        "id": "-WKlWuCApN22",
        "outputId": "3f629b56-d87b-48af-89ef-2cf8594ba670"
      },
      "execution_count": null,
      "outputs": [
        {
          "output_type": "stream",
          "name": "stdout",
          "text": [
            "[[5 9 7 1 7]\n",
            " [7 7 2 8 7]]\n",
            "6.0\n"
          ]
        }
      ]
    },
    {
      "cell_type": "code",
      "source": [
        "print(tmp5.mean(axis=1))\n",
        "print(tmp5.mean(axis=0))"
      ],
      "metadata": {
        "colab": {
          "base_uri": "https://localhost:8080/"
        },
        "id": "59KT1o_SpP3u",
        "outputId": "072bdfcb-35d0-4609-eb68-2cd9db152a16"
      },
      "execution_count": null,
      "outputs": [
        {
          "output_type": "stream",
          "name": "stdout",
          "text": [
            "[5.8 6.2]\n",
            "[6.  8.  4.5 4.5 7. ]\n"
          ]
        }
      ]
    },
    {
      "cell_type": "code",
      "source": [
        "import numpy as np\n",
        "a=np.random.randint(1,10,(3,4))\n",
        "print(a)\n",
        "tmp=np.mean(a)\n",
        "print(tmp)\n",
        "print(a.mean())\n",
        "\n",
        "tmp=a.mean(axis=1)\n",
        "print(tmp)\n",
        "\n",
        "tmp=a.mean(axis=0)\n",
        "print(tmp)\n",
        "\n",
        "aux=a.sum()\n",
        "print(aux)\n",
        "\n",
        "medianValue=np.median(a, axis=1)\n",
        "print(medianValue)"
      ],
      "metadata": {
        "id": "xPYJf4ydpnYv",
        "outputId": "c4dda263-db14-47fb-9cbb-f137666b362d",
        "colab": {
          "base_uri": "https://localhost:8080/"
        }
      },
      "execution_count": 7,
      "outputs": [
        {
          "output_type": "stream",
          "name": "stdout",
          "text": [
            "[[9 2 4 3]\n",
            " [6 5 8 1]\n",
            " [1 4 3 4]]\n",
            "4.166666666666667\n",
            "4.166666666666667\n",
            "[4.5 5.  3. ]\n",
            "[5.33333333 3.66666667 5.         2.66666667]\n",
            "50\n",
            "[3.5 5.5 3.5]\n"
          ]
        }
      ]
    },
    {
      "cell_type": "markdown",
      "source": [],
      "metadata": {
        "id": "zraaGriDrMzq"
      }
    },
    {
      "cell_type": "code",
      "source": [
        "#SORTING\n",
        "b=np.random.randn(10)\n",
        "print(b)\n",
        "print(b.shape)\n",
        "b.sort()\n",
        "print(b)\n"
      ],
      "metadata": {
        "id": "RdHqVaINrVTJ",
        "outputId": "f11cf1f3-5392-4a3b-9c44-0e06c04c5c86",
        "colab": {
          "base_uri": "https://localhost:8080/"
        }
      },
      "execution_count": 10,
      "outputs": [
        {
          "output_type": "stream",
          "name": "stdout",
          "text": [
            "[ 0.55332659  1.98206454 -0.31453706  0.12265448  0.64545263 -0.88702366\n",
            "  0.22302492  0.61005389 -1.00230177 -0.28134248]\n",
            "(10,)\n",
            "[-1.00230177 -0.88702366 -0.31453706 -0.28134248  0.12265448  0.22302492\n",
            "  0.55332659  0.61005389  0.64545263  1.98206454]\n"
          ]
        }
      ]
    },
    {
      "cell_type": "code",
      "source": [
        "c=np.array([1,2,3,4,5,6,7,8,9,10,1,2,3,4,5])\n",
        "print(np.unique(c))\n"
      ],
      "metadata": {
        "id": "UD9S-dXyrzYi",
        "outputId": "febde3d0-dc00-495e-a282-cb0137c0a4df",
        "colab": {
          "base_uri": "https://localhost:8080/"
        }
      },
      "execution_count": 13,
      "outputs": [
        {
          "output_type": "stream",
          "name": "stdout",
          "text": [
            "[ 1  2  3  4  5  6  7  8  9 10]\n"
          ]
        }
      ]
    },
    {
      "cell_type": "code",
      "source": [
        "string1=np.array(['desk','chair','bulb'])\n",
        "string2=np.array(['lamp','bulb','chair'])\n",
        "\n",
        "tmp1=np.intersect1d(string1,string2)\n",
        "print(tmp1)\n",
        "\n",
        "tmp2=np.union1d(string1,string2)\n",
        "print(tmp2)\n",
        "\n",
        "tmp3=np.setdiff1d(string1,string2)\n",
        "print(tmp3)\n",
        "\n",
        "tmp4=np.in1d(string2,string1)\n",
        "print(tmp4)"
      ],
      "metadata": {
        "id": "x-AOhoBWsUV3",
        "outputId": "c21a1d1a-a6ab-4614-a573-aabe45416bb4",
        "colab": {
          "base_uri": "https://localhost:8080/"
        }
      },
      "execution_count": 17,
      "outputs": [
        {
          "output_type": "stream",
          "name": "stdout",
          "text": [
            "['bulb' 'chair']\n",
            "['bulb' 'chair' 'desk' 'lamp']\n",
            "['desk']\n",
            "[False  True  True]\n"
          ]
        }
      ]
    },
    {
      "cell_type": "code",
      "source": [
        "#BROADCASTING\n",
        "\n",
        "import numpy as np\n",
        "\n",
        "matriz_ceros = np.zeros((4, 3))\n",
        "print(matriz_ceros)\n",
        "\n",
        "replicate=np.array([1,2,1])\n",
        "print(replicate)\n",
        "\n",
        "print(matriz_ceros + replicate)\n",
        "\n",
        "replicatecol=np.array([[10,10,10]])\n",
        "print(replicatecol.shape)\n",
        "replicatecol=np.reshape(replicatecol,(3,1)  )\n",
        "print(replicatecol.shape)\n",
        "aux1=aux+replicatecol\n",
        "print(aux1)\n",
        "\n",
        "\n",
        "vector=np.array([45])\n",
        "matrixZeros=np.zeros((5,5))\n",
        "print(matrixZeros)\n",
        "print(matrixZeros+vector)\n",
        "\n"
      ],
      "metadata": {
        "id": "SFzaeKFiuQ74",
        "outputId": "08ea537a-5f2b-4b2b-8621-61edb231d0a4",
        "colab": {
          "base_uri": "https://localhost:8080/"
        }
      },
      "execution_count": 23,
      "outputs": [
        {
          "output_type": "stream",
          "name": "stdout",
          "text": [
            "[[0. 0. 0.]\n",
            " [0. 0. 0.]\n",
            " [0. 0. 0.]\n",
            " [0. 0. 0.]]\n",
            "[1 2 1]\n",
            "[[1. 2. 1.]\n",
            " [1. 2. 1.]\n",
            " [1. 2. 1.]\n",
            " [1. 2. 1.]]\n",
            "(1, 3)\n",
            "(3, 1)\n",
            "[[60]\n",
            " [60]\n",
            " [60]]\n",
            "[[0. 0. 0. 0. 0.]\n",
            " [0. 0. 0. 0. 0.]\n",
            " [0. 0. 0. 0. 0.]\n",
            " [0. 0. 0. 0. 0.]\n",
            " [0. 0. 0. 0. 0.]]\n",
            "[[45. 45. 45. 45. 45.]\n",
            " [45. 45. 45. 45. 45.]\n",
            " [45. 45. 45. 45. 45.]\n",
            " [45. 45. 45. 45. 45.]\n",
            " [45. 45. 45. 45. 45.]]\n"
          ]
        }
      ]
    }
  ]
}